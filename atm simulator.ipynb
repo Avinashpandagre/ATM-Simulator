{
 "cells": [
  {
   "cell_type": "code",
   "execution_count": null,
   "id": "5f0fce54-7201-4cdb-938c-4e5de65bfc11",
   "metadata": {},
   "outputs": [
    {
     "name": "stdout",
     "output_type": "stream",
     "text": [
      "1. Check Balance\n",
      "2. Withdraw Cash\n",
      "3. Deposit Cash\n",
      "4. Change PIN\n",
      "5. Transaction History\n",
      "6. Exit\n"
     ]
    }
   ],
   "source": [
    "class ATM:\n",
    "    def __init__(self, balance=0, pin=1234):\n",
    "        self.balance = balance\n",
    "        self.pin = pin\n",
    "        self.transaction_history = []\n",
    "\n",
    "    def check_balance(self):\n",
    "        print(f\"Your current balance is: ${self.balance}\")\n",
    "\n",
    "    def withdraw_cash(self, amount):\n",
    "        if amount > self.balance:\n",
    "            print(\"Insufficient funds\")\n",
    "        else:\n",
    "            self.balance -= amount\n",
    "            self.transaction_history.append(f\"Withdrawal: ${amount}\")\n",
    "            print(f\"Withdrawal successful. New balance: ${self.balance}\")\n",
    "\n",
    "    def deposit_cash(self, amount):\n",
    "        self.balance += amount\n",
    "        self.transaction_history.append(f\"Deposit: ${amount}\")\n",
    "        print(f\"Deposit successful. New balance: ${self.balance}\")\n",
    "\n",
    "    def change_pin(self, old_pin, new_pin):\n",
    "        if old_pin == self.pin:\n",
    "            self.pin = new_pin\n",
    "            print(\"PIN changed successfully\")\n",
    "        else:\n",
    "            print(\"Incorrect PIN\")\n",
    "\n",
    "    def show_history(self):\n",
    "        print(\"Transaction History:\")\n",
    "        for transaction in self.transaction_history:\n",
    "            print(transaction)\n",
    "\n",
    "def main():\n",
    "    atm = ATM()\n",
    "    while True:\n",
    "        print(\"1. Check Balance\")\n",
    "        print(\"2. Withdraw Cash\")\n",
    "        print(\"3. Deposit Cash\")\n",
    "        print(\"4. Change PIN\")\n",
    "        print(\"5. Transaction History\")\n",
    "        print(\"6. Exit\")\n",
    "        choice = input(\"Choose an option: \")\n",
    "        if choice == \"1\":\n",
    "            atm.check_balance()\n",
    "        elif choice == \"2\":\n",
    "            amount = float(input(\"Enter amount to withdraw: \"))\n",
    "            atm.withdraw_cash(amount)\n",
    "        elif choice == \"3\":\n",
    "            amount = float(input(\"Enter amount to deposit: \"))\n",
    "            atm.deposit_cash(amount)\n",
    "        elif choice == \"4\":\n",
    "            old_pin = int(input(\"Enter old PIN: \"))\n",
    "            new_pin = int(input(\"Enter new PIN: \"))\n",
    "            atm.change_pin(old_pin, new_pin)\n",
    "        elif choice == \"5\":\n",
    "            atm.show_history()\n",
    "        elif choice == \"6\":\n",
    "            break\n",
    "        else:\n",
    "            print(\"Invalid option\")\n",
    "\n",
    "if __name__ == \"__main__\":\n",
    "    main()\n"
   ]
  }
 ],
 "metadata": {
  "kernelspec": {
   "display_name": "Python 3 (ipykernel)",
   "language": "python",
   "name": "python3"
  },
  "language_info": {
   "codemirror_mode": {
    "name": "ipython",
    "version": 3
   },
   "file_extension": ".py",
   "mimetype": "text/x-python",
   "name": "python",
   "nbconvert_exporter": "python",
   "pygments_lexer": "ipython3",
   "version": "3.11.7"
  }
 },
 "nbformat": 4,
 "nbformat_minor": 5
}
